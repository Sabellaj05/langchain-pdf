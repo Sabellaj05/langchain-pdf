{
 "cells": [
  {
   "cell_type": "markdown",
   "id": "ac5a1d83-5fcd-4bd6-a2b0-eae2c91268dd",
   "metadata": {},
   "source": [
    "# Exploring LangChain "
   ]
  },
  {
   "cell_type": "code",
   "execution_count": 1,
   "id": "f7eddf31-98f7-4be9-8d2b-330b7de644ff",
   "metadata": {},
   "outputs": [],
   "source": [
    "from dotenv import load_dotenv"
   ]
  },
  {
   "cell_type": "code",
   "execution_count": 2,
   "id": "e660e678-b71a-44d4-af9e-f43239bd6132",
   "metadata": {},
   "outputs": [
    {
     "data": {
      "text/plain": [
       "True"
      ]
     },
     "execution_count": 2,
     "metadata": {},
     "output_type": "execute_result"
    }
   ],
   "source": [
    "load_dotenv()"
   ]
  },
  {
   "cell_type": "markdown",
   "id": "65b20dec-e2e6-4908-88f1-21873d25a971",
   "metadata": {},
   "source": [
    "## <center>LLM Chain</center>"
   ]
  },
  {
   "cell_type": "markdown",
   "id": "2b6dc077-9959-4c12-a5c3-32d28c02c523",
   "metadata": {},
   "source": [
    "We initialized the model"
   ]
  },
  {
   "cell_type": "code",
   "execution_count": 3,
   "id": "4734ab43-91e8-4e6a-94cb-5e627fbba759",
   "metadata": {},
   "outputs": [],
   "source": [
    "from langchain_openai import ChatOpenAI\n",
    "\n",
    "llm = ChatOpenAI(model=\"gpt-3.5-turbo\")"
   ]
  },
  {
   "cell_type": "markdown",
   "id": "395dcb4c-b902-4abf-b823-6324e71d5775",
   "metadata": {},
   "source": [
    "We can begin asking questions right away using `invoke` method.  \n",
    "The message contains several outputs but with `content` attribute we can see the response.  \n",
    "This question isn't in the training data so it shouldn't be accurate"
   ]
  },
  {
   "cell_type": "code",
   "execution_count": 4,
   "id": "77e5beab-fecf-4f4d-9042-5cb9d0b795a9",
   "metadata": {},
   "outputs": [
    {
     "data": {
      "text/plain": [
       "'Hoy en la Cámara de Diputados de Argentina se estaba votando el proyecto de ley de reforma del Ministerio Público Fiscal, que busca modificar el funcionamiento de este organismo encargado de investigar delitos en el país. La votación ha generado un fuerte debate entre los diferentes bloques políticos y se espera que sea una sesión muy intensa.'"
      ]
     },
     "execution_count": 4,
     "metadata": {},
     "output_type": "execute_result"
    }
   ],
   "source": [
    "llm.invoke('''\n",
    "Decime que paso hoy en la camara de diputados de Argentina y que se estaba votando\n",
    "''').content"
   ]
  },
  {
   "cell_type": "markdown",
   "id": "756cf0d6-94d6-4c0d-84b7-e7c12eec4eed",
   "metadata": {},
   "source": [
    "We can also guide the response with a prompt template  \n",
    "we use the `from_messages` method to pass a list of tuples containing the system message for the _**AI**_ and the future input from the _**user**_"
   ]
  },
  {
   "cell_type": "code",
   "execution_count": 5,
   "id": "359a51af-4cbd-4fca-ac1d-dcb0dee15898",
   "metadata": {},
   "outputs": [],
   "source": [
    "from langchain_core.prompts import ChatPromptTemplate\n",
    "\n",
    "prompt = ChatPromptTemplate.from_messages([\n",
    "    (\"system\", \"Eres un experto en politica Argentina y un maestro en redacciones concisas\"),\n",
    "    (\"user\", \"{input}\")\n",
    "])"
   ]
  },
  {
   "cell_type": "markdown",
   "id": "72614b9b-9793-4352-864b-7ba29fe9a044",
   "metadata": {},
   "source": [
    "Combine both the `llm` and the `prompt` into a simple **chain** using the [LCEL](https://python.langchain.com/docs/expression_language/) syntax"
   ]
  },
  {
   "cell_type": "code",
   "execution_count": 6,
   "id": "ee824bfc-46e8-4d52-9073-e72c56e69412",
   "metadata": {},
   "outputs": [],
   "source": [
    "chain = prompt | llm"
   ]
  },
  {
   "cell_type": "markdown",
   "id": "48bf58df-a3f0-496c-9716-0e3a47dee3ba",
   "metadata": {},
   "source": [
    "We can now invoke it and passed question to the input placeholder of the user tuple.  \n",
    "It still won't know the answer, but should respond according to the system prompt  "
   ]
  },
  {
   "cell_type": "code",
   "execution_count": 7,
   "id": "cc96aee8-3974-45e5-a0f7-ade62aff74a9",
   "metadata": {},
   "outputs": [
    {
     "data": {
      "text/plain": [
       "AIMessage(content='Hoy en la Cámara de Diputados de Argentina se estaba votando el proyecto de ley de reforma del Impuesto a las Ganancias, que busca aumentar el mínimo no imponible y reducir la carga impositiva para los trabajadores. Finalmente, la ley fue aprobada con amplio consenso y contó con el respaldo de la mayoría de los bloques políticos presentes en la sesión.', response_metadata={'token_usage': {'completion_tokens': 89, 'prompt_tokens': 50, 'total_tokens': 139}, 'model_name': 'gpt-3.5-turbo', 'system_fingerprint': 'fp_3b956da36b', 'finish_reason': 'stop', 'logprobs': None}, id='run-69b98771-b956-4936-b67e-06f04e8a7992-0')"
      ]
     },
     "execution_count": 7,
     "metadata": {},
     "output_type": "execute_result"
    }
   ],
   "source": [
    "chain.invoke({\"input\": \"Decime que paso hoy en la camara de diputados de Argentina y que se estaba votando\"})"
   ]
  },
  {
   "cell_type": "markdown",
   "id": "f4e20f25-44a7-4177-80ad-ab281207ad6f",
   "metadata": {},
   "source": [
    "Since this output being from a ChatModel is a `message` object is more convenient to work with strings. For that we add a simple output parser"
   ]
  },
  {
   "cell_type": "code",
   "execution_count": 8,
   "id": "52636586-7268-4f3f-a9e1-b4dc7f96e556",
   "metadata": {},
   "outputs": [],
   "source": [
    "from langchain_core.output_parsers import StrOutputParser\n",
    "\n",
    "output_parser = StrOutputParser()"
   ]
  },
  {
   "cell_type": "markdown",
   "id": "9f3e60b8-3c62-4ada-ac85-9f3209ada94f",
   "metadata": {},
   "source": [
    "We create the chain again, adding the parser"
   ]
  },
  {
   "cell_type": "code",
   "execution_count": 9,
   "id": "fa7b5c2f-b6de-452c-a499-f03f3acb0293",
   "metadata": {},
   "outputs": [],
   "source": [
    "chain = prompt | llm | output_parser"
   ]
  },
  {
   "cell_type": "markdown",
   "id": "1929ec60-8d05-45a6-99c1-297aa90ca8ed",
   "metadata": {},
   "source": [
    "We call it again, this time the output being a string"
   ]
  },
  {
   "cell_type": "code",
   "execution_count": 10,
   "id": "75b4290f-6bed-4aef-bc36-971812ebafd5",
   "metadata": {},
   "outputs": [
    {
     "data": {
      "text/plain": [
       "'Hoy en la Cámara de Diputados de Argentina se votó el proyecto de ley de reforma del impuesto a las Ganancias, que busca aumentar el piso a partir del cual se comienza a pagar el tributo. La fecha de hoy es [fecha actual].'"
      ]
     },
     "execution_count": 10,
     "metadata": {},
     "output_type": "execute_result"
    }
   ],
   "source": [
    "chain.invoke(\n",
    "    {\"input\": \n",
    "        '''\n",
    "        Decime que paso hoy en la camara de diputados de Argentina y que se estaba votando. \n",
    "        Tambien menciona al final la fecha de hoy\n",
    "        '''}\n",
    ")"
   ]
  },
  {
   "cell_type": "markdown",
   "id": "08c2f5b0-a0ef-4a4e-a90b-d5646b11c591",
   "metadata": {},
   "source": [
    "## <center>Retrieval Chain</center>"
   ]
  },
  {
   "cell_type": "markdown",
   "id": "127d0249-dc83-40f8-83c5-01150bc31daa",
   "metadata": {},
   "source": [
    "Para realmente responder la pregunta cuya respuesta no esta siendo la correcta necesitamos proveer contexto adicional to the LLM. We can do this via _retrieval_  \n",
    "\n",
    "through this process we will look up relevant documents from a _retriever_.  \n",
    "A Retriever can be backed by anything, a SQL table, the internet, Videos, PDF's files, etc. In this instance we will populate a [vector database](https://python.langchain.com/docs/modules/data_connection/vectorstores/)"
   ]
  },
  {
   "cell_type": "code",
   "execution_count": 11,
   "id": "7eb8c326-9063-4b8b-95ed-8db8d4402722",
   "metadata": {},
   "outputs": [],
   "source": [
    "from langchain_community.document_loaders import WebBaseLoader\n",
    "\n",
    "loader = WebBaseLoader(\"https://www.lanacion.com.ar/politica/gritos-y-tension-en-diputados-pedidos-de-ansioliticos-e-insultos-en-el-recinto-durante-el-debate-por-nid29042024/\")\n",
    "\n",
    "docs = loader.load()"
   ]
  },
  {
   "cell_type": "markdown",
   "id": "0e20e2fd-113c-47bb-b77e-a6c3efba5fc3",
   "metadata": {},
   "source": [
    "Ahora hay que indexarlo in the vector store usando algun embeddings model"
   ]
  },
  {
   "cell_type": "code",
   "execution_count": 12,
   "id": "ad333615-e8c3-4463-a08f-c667a9448bdf",
   "metadata": {},
   "outputs": [],
   "source": [
    "from langchain_openai import OpenAIEmbeddings\n",
    "\n",
    "embeddings = OpenAIEmbeddings()"
   ]
  },
  {
   "cell_type": "markdown",
   "id": "4b538cfd-1893-43df-aec5-13ab12405ae4",
   "metadata": {},
   "source": [
    "Build index"
   ]
  },
  {
   "cell_type": "code",
   "execution_count": 13,
   "id": "c53108fa-16bd-48ba-9418-242d9d68c0ef",
   "metadata": {},
   "outputs": [],
   "source": [
    "from langchain_community.vectorstores import FAISS\n",
    "from langchain_text_splitters import RecursiveCharacterTextSplitter\n",
    "\n",
    "# instanciate the splitter\n",
    "text_splitter = RecursiveCharacterTextSplitter()\n",
    "\n",
    "# split the documents\n",
    "documents = text_splitter.split_documents(docs)\n",
    "\n",
    "# create the embeddings and store them\n",
    "vector = FAISS.from_documents(documents, embeddings)"
   ]
  },
  {
   "cell_type": "markdown",
   "id": "2d3cb223-8eb5-4c2f-80e9-54a753257568",
   "metadata": {},
   "source": [
    "Ahora que está todo indexado creamos el _retrieval chain_. Va a agarrar la pregunta, mirar los documentos relevantes, pasar esos documentos juntos con la pregunta al LLM y hacer la pregunta original.  \n",
    "En este caso usamos el método `from_template` de `ChatPromptTemplate`"
   ]
  },
  {
   "cell_type": "code",
   "execution_count": 14,
   "id": "d441c27a-94b0-4fcc-91e6-81eb4ee1d7c2",
   "metadata": {},
   "outputs": [],
   "source": [
    "from langchain.chains.combine_documents import create_stuff_documents_chain\n",
    "\n",
    "prompt = ChatPromptTemplate.from_template(\n",
    "    \"\"\"\n",
    "    Answer the following question based only in the context provided:\n",
    "\n",
    "    <context>\n",
    "    {context}\n",
    "    <context>\n",
    "\n",
    "    Question: {input}\n",
    "    \"\"\"\n",
    ")\n",
    "\n",
    "document_chain = create_stuff_documents_chain(llm, prompt)\n"
   ]
  },
  {
   "cell_type": "markdown",
   "id": "59eee299-c906-4b2f-986b-fc56fe717c97",
   "metadata": {},
   "source": [
    "### Side note"
   ]
  },
  {
   "cell_type": "markdown",
   "id": "b0c02f08-c49f-450b-8fa5-bacf663fda10",
   "metadata": {},
   "source": [
    "Podriamos pasar directamente los documentos si quisieramos y lo responderia correctamente (of corso)"
   ]
  },
  {
   "cell_type": "code",
   "execution_count": 15,
   "id": "9240c1ea-ec74-4fff-b92a-dda42111b620",
   "metadata": {},
   "outputs": [
    {
     "data": {
      "text/plain": [
       "'Hoy en la Cámara de Diputados se votó sobre cómo tratar la ley de bases.'"
      ]
     },
     "execution_count": 15,
     "metadata": {},
     "output_type": "execute_result"
    }
   ],
   "source": [
    "from langchain_core.documents import Document\n",
    "\n",
    "document_chain.invoke({\n",
    "    \"input\": \"Que paso hoy en la camara de diputados?\",\n",
    "    \"context\": [Document(page_content=\"Se vota como tratar la ley de bases\")]\n",
    "})"
   ]
  },
  {
   "cell_type": "markdown",
   "id": "035fe56f-c49c-4541-9e8e-39a6d6e7188e",
   "metadata": {},
   "source": [
    "Sin embargo, la idea es que los documentos vengan del retriever que hicimos antes, de esa manera se puede el retriever para seleccionar dinámicamente los documentos más relevantes para la pregunta en cuestión"
   ]
  },
  {
   "cell_type": "code",
   "execution_count": 16,
   "id": "cf3603e7-7119-433f-8420-cd2b394dfd8e",
   "metadata": {},
   "outputs": [],
   "source": [
    "from langchain.chains import create_retrieval_chain\n",
    "\n",
    "# creamos el retriever\n",
    "retriever = vector.as_retriever()\n",
    "# creamos la retriever chain con los documentos, pregunta y retriever\n",
    "retrieval_chain = create_retrieval_chain(retriever, document_chain)"
   ]
  },
  {
   "cell_type": "markdown",
   "id": "9636e76d-52fd-4e94-901f-7384fed19ca3",
   "metadata": {},
   "source": [
    "Pum ahora la podemos invocar, esto nos da un `dict`, la respuesta está en la key  `answer`"
   ]
  },
  {
   "cell_type": "code",
   "execution_count": 17,
   "id": "53da91a8-166a-4e98-833d-2abd6f90b0cf",
   "metadata": {},
   "outputs": [
    {
     "name": "stdout",
     "output_type": "stream",
     "text": [
      "Hoy en la Cámara de Diputados hubo fuertes intercambios y tensiones durante el debate por la Ley de Bases y el paquete fiscal impulsado por el Gobierno de Javier Milei. Se escucharon gritos, acusaciones e insultos entre los legisladores, incluyendo un pedido de ansiolíticos. El debate se centró en el ordenamiento de la discusión en el recinto, que finalmente se definió sería en particular por capítulos y de manera nominal.\n"
     ]
    }
   ],
   "source": [
    "response = retrieval_chain.invoke({\n",
    "    \"input\": \"Que paso hoy en la camara de diputados y que tema se estaba tratando/votando\"\n",
    "})\n",
    "\n",
    "print(response[\"answer\"])"
   ]
  },
  {
   "cell_type": "markdown",
   "id": "fa6d78d1-8964-4a16-bed5-7e76cd8aaf9f",
   "metadata": {},
   "source": [
    "## GOING BEYOND"
   ]
  },
  {
   "cell_type": "markdown",
   "id": "fe3128a2-33c1-4b54-a341-fabc549373e6",
   "metadata": {},
   "source": [
    "## <center> Conversational Retrieval Chain</center>"
   ]
  },
  {
   "cell_type": "markdown",
   "id": "d23950f5-6b7d-4846-bba3-4345d278b03b",
   "metadata": {},
   "source": [
    "Hasta ahora nuestra **RC** solo responde de a una pregunta. Hoy son populares los chatbots los cuales podés interactuar de manera _conversacional_  \n",
    "\n",
    "Dicho esto hay que cambiar sobre que input trabaja el retrieval method, hay que hacer que tome en cuenta el _historial_ de conversacion entero en vez de solo el input mas reciente, de igual forma el LLM final que responde  \n",
    "\n",
    "Lo que tenemos que hacer es crear una nueva _chain_ que tome el input mas reciente **y** el historial de conversacion y usar un LLM para generar una _search query_"
   ]
  },
  {
   "cell_type": "code",
   "execution_count": 18,
   "id": "c7772cf8-c28c-433d-8fe4-bd7deff892ca",
   "metadata": {},
   "outputs": [],
   "source": [
    "from langchain.chains import create_history_aware_retriever\n",
    "from langchain_core.prompts import MessagesPlaceholder\n",
    "\n",
    "# prompt para el LLM asi genera el serach query\n",
    "\n",
    "prompt = ChatPromptTemplate.from_messages([\n",
    "    MessagesPlaceholder(variable_name=\"chat_history\"),\n",
    "    (\"user\", \"{input}\"),\n",
    "    (\"user\", \"Given the above conversation, generate a search query to look up to get information relevant to the conversation\")\n",
    "])\n",
    "\n",
    "retriever_chain = create_history_aware_retriever(llm, retriever, prompt)"
   ]
  },
  {
   "cell_type": "markdown",
   "id": "0964cbe4-5114-4392-91ed-caec3e7ed8f3",
   "metadata": {},
   "source": [
    "Podemos testearlo pasando una pregunta subsecuente contra un determinado history"
   ]
  },
  {
   "cell_type": "code",
   "execution_count": 19,
   "id": "adb5eb89-3d62-494a-9cc4-59b3da307c78",
   "metadata": {
    "scrolled": true
   },
   "outputs": [
    {
     "data": {
      "text/plain": [
       "[Document(page_content='Los cruces previosPrevio a lograr el quorum con 135 diputados, la sesión comenzó con tensiones debido a los cruces y acusaciones entre los legisladores de la Cámara de Diputados. El primer conflicto se dio segundos después de que Menem abriera la jornada debido a desacuerdos sobre cómo funcionaría el ordenamiento de la discusión en el recinto, que finalmente se definió sería en particular por capítulos y de manera nominal. “Arrancamos mal”, lamentó Germán Martínez -jefe de la bancada de UP-, y agregó: “En labor parlamentaria fijamos una posición sobre que los temas merecen un tratamiento diferencial. No alcanza con decir que el paquete fiscal estuvo incluido en el expediente; el volumen que alcanzó la cuestión fiscal -junto con el debate de la ley ómnibus- requieren un tratamiento diferenciado”.El diputado Germán Martínez, durante la sesión en el Congreso.Fabián MarelliAdemás, cuestionó que unificar temas representa “un límite en la libertad de expresión de los diputados” y apeló a que “falta sentido común” en el oficialismo. “Usted dice que hay acuerdo cuando en realidad lo que está haciendo es imponer”, lanzó directamente hacia el presidente de la Cámara, y acusó: “Más allá de acuerdos que tejieron ustedes en reuniones fuera de labor el viernes por la noche con el ‘club de amigos’, quiero aclarar que acá no hubo la cantidad de manos disponibles”.Frente a esta acusación, la primera en contestar fue la diputada nacional de Pro, Silvana Giudici, que cuestionó a aquellos que afirman que la sesión es de carácter ilegal. “El orden de labor parlamentaria se votó mano a mano, y encima el presidente (por Menem) les está dando la votación nominal”, defendió. “Acá no hay un club de amigos, pasó algo novedoso que es que se terminó la mayoría automática. Los bloques que muy forzosamente nos pusimos de acuerdo en la labor parlamentaria explican el sentido del boto. Si los diputados están ansiosos y quieren adelantar el voto particular tienen que esperar, ahora corresponde arrancar con la sesión de la Ley de Bases”.Otra que se mostró eufórica durante su pedido para hablar fue la diputada del Frente de Izquierda Myriam Bregman, que adelantó el rechazo del tratamiento de parte de su bloque, y acusó al Gobierno de que solo “se escucha el lobby que hacen desde arriba”. “Hace dos meses nos dijeron que estábamos cambiando el funcionamiento de la casta, que todo se hacía de cara al pueblo; hoy solo les importó que esto se vote entre gallos y medianoches cuando nadie lo está viendo. Queremos que haya cuarto intermedio y se vote en horarios normales”, solicitó.LA NACIONSeguí leyendoTras la advertencia de opositores. El Gobierno aseguró que no cerrará el Banco Nacional de Datos GenéticosPrincipales puntos. Qué dice la reforma laboral que se incluyó en la Ley BasesProyecto. El texto completo de la Ley de Bases que se debate en DiputadosTemasCámara de DiputadosCongreso NacionalActualidad políticaConforme a  los criterios deConocé The Trust ProjectMás leídas de PolíticaProyecto. El texto completo de la Ley de Bases que se debate en DiputadosChaco. Antes de que la causa llegue a juicio, los padres de César Sena quedaron fuera de la acusación de matar a CeciliaCasi 20 años después. Elevan a juicio un segundo tramo del caso Skanska por coimas para la construcción de gaseoductosLa ausencia de Pagano. Pese a las fracturas internas, los libertarios votarán cohesionados la Ley Bases de MileiOtras noticias de\\xa0Cámara de DiputadosDebate en Diputados. Cecilia Moreau: “Esta ley es una reforma constitucional encubierta”Diputados. El Gobierno confía en aprobar la Ley Bases y el paquete fiscal, pero teme una votación ajustada en tres puntos clave\"Vaciamiento\". Según ATE, el paro en el Senasa tiene un alto acatamientoÚltimas NoticiasDebate en Diputados. Cecilia Moreau: “Esta ley es una reforma constitucional encubierta”Diputados. El Gobierno confía en aprobar la Ley Bases y el paquete fiscal, pero teme una votación ajustada en tres puntos claveLey Bases. Karina Milei', metadata={'source': 'https://www.lanacion.com.ar/politica/gritos-y-tension-en-diputados-pedidos-de-ansioliticos-e-insultos-en-el-recinto-durante-el-debate-por-nid29042024/', 'title': 'El debate por la Ley Bases comenzó con un pedido de ansiolíticos e insultos en Diputados - LA NACION', 'description': 'La sesión para debatir la normativa impulsada por el Gobierno comenzó con fuertes intercambios entre los legisladores - LA NACION', 'language': 'es'}),\n",
       " Document(page_content='El debate por la Ley Bases comenzó con un pedido de ansiolíticos e insultos en Diputados - LA NACION', metadata={'source': 'https://www.lanacion.com.ar/politica/gritos-y-tension-en-diputados-pedidos-de-ansioliticos-e-insultos-en-el-recinto-durante-el-debate-por-nid29042024/', 'title': 'El debate por la Ley Bases comenzó con un pedido de ansiolíticos e insultos en Diputados - LA NACION', 'description': 'La sesión para debatir la normativa impulsada por el Gobierno comenzó con fuertes intercambios entre los legisladores - LA NACION', 'language': 'es'}),\n",
       " Document(page_content='ley es una reforma constitucional encubierta”Diputados. El Gobierno confía en aprobar la Ley Bases y el paquete fiscal, pero teme una votación ajustada en tres puntos claveLey Bases. Karina Milei y Francos supervisan negociaciones en el Congreso y el oficialismo tantea de cerca a los dialoguistas y a PaganoSeccionesÚltimas noticiasPolíticaEconomíaEl mundoSociedadOpiniónDeportesLifestyleEspectáculosEdición impresaLN+Club LA NACIONRevistasOHLALÁ!¡HOLA!LIVINGJARDÍNLUGARESROLLING STONEBonvivirColeccionesMáster en periodismoFundación LA NACIONMapa del sitioAyudaAtención al socioTérminos y condiciones¿Cómo anunciar?Suscribirse al diario impresoRedes sociales:Descargá la app:© Copyright 2024 SA LA NACION | Todos los derechos reservados. Dirección Nacional del Derecho de Autor DNDA - EXPEDIENTE DNDA (renovación) RL-2023-95334553-APN-DNDA#MJ.Queda prohibida la reproducción total o parcial del presente diario.Protegido por reCAPTCHA: CondicionesPrivacidadMiembro de GDA. Grupo de Diarios AméricaCargando banners ...Descargá la aplicación de LA NACION. Es rápida y liviana.No, graciasAceptar¿Querés recibir notificaciones de alertas?No, graciasAceptarHa ocurrido un error de conexiónCerrar', metadata={'source': 'https://www.lanacion.com.ar/politica/gritos-y-tension-en-diputados-pedidos-de-ansioliticos-e-insultos-en-el-recinto-durante-el-debate-por-nid29042024/', 'title': 'El debate por la Ley Bases comenzó con un pedido de ansiolíticos e insultos en Diputados - LA NACION', 'description': 'La sesión para debatir la normativa impulsada por el Gobierno comenzó con fuertes intercambios entre los legisladores - LA NACION', 'language': 'es'}),\n",
       " Document(page_content='CERRARCERRARSECCIONESInicioSeccionesMis NotasClub LNPerfilBuscá en LA NACION...Últimas noticiasTránsito y transporteClimaLA NACION DataPolíticaEconomíaDólar HoyCampoPropiedadesComercio ExteriorMovilidadÍndicesEl MundoEstados UnidosSociedadBuenos AiresSeguridadEducaciónCulturaComunidadBienestarCienciaHablemos de todoOpiniónEditorialesColumnistasCartas de SuscriptoresDeportesFútbolRugbyTenisCanchallenaLifestyleLN JuegosTurismoTecnologíaHoróscopoFeriadosLoterías y quinielasRecetasPodcastsModa y BellezaEspectáculosCartelera de cineCartelera de teatroEdición ImpresaAcceso PDFEditorialesConversaciones de domingoSábadoIdeasCarta de lectoresAvisos fúnebresAvisos socialesRevistasRevista OHLALÁ!Revista ¡HOLA!Revista LugaresRevista LivingRevista Rolling StoneRevista JardínLN+Exclusivo SuscriptoresKiosco LA NACIONClub LA NACION>LA NACION>PolíticaGritos y tensión en Diputados: pedido de ansiolíticos e insultos en el recinto durante el debate por\\xa0la\\xa0Ley\\xa0BasesLa sesión para debatir la normativa impulsada por el Gobierno comenzó con fuertes intercambios entre los legisladores29 de abril de 202415:53LA NACIONLa diputada Carolina Gaillard, a los gritosFabián Marelli - LA NACIÓNCompartirEscucharPocos minutos después de haber comenzado la sesión por la Ley de Bases y el paquete fiscal que busca aprobar el gobierno de Javier Milei, los primeros cruces entre diputados comenzaron. Mientras el legislador de la Unión Cívica Radical (UCR), Rodrigo de Loredo, trataba de hablar -autorizado por el presidente de la Cámara, Martín Menem- se escuchaban gritos y acusaciones entre miembros del recinto.“¡Ridícula!”, exclamó una voz, y la discusión siguió: “Dale un rivotril a [Carolina] Gaillard que está sacada”. Las voces salían de los micrófonos -incluso apagados- en la Cámara baja. La acusación fue directamente contra la diputada entrerriana de Unión por la Patria (UP), que minutos antes había pedido efervescentemente que no le diera a Milei “la capacidad de disolver organismos estatales”. Todo el griterío despertó el visible malestar de Menem, que reclamó orden.Tras esto, la diputada acusada utilizó su cuenta de la red social X para responder a las acusaciones que ella misma le atribuyó a Karina Banfi, vicepresidenta del bloque de la UCR. “Soy vehemente y pasional. No especuló jamás. Ni cocino leyes de espaldas a mi pueblo por eso el enojo de que decidan con el aval del Bloque de Diputados UCR votar por capítulos sin discusión particular”, justificó.Y acusó: “Por eso @KBanfi [el usuario de su par de la UCR] me grita ‘tomá un rivotril’, en un acto machista y misógino lamentable de una colega que se dice sorora”.Soy vehemente y pasional. No especuló jamás. Ni cocino leyes de espaldas a mi pueblo por eso el enojo de que decidan con el aval de la @diputadosucr votar por capítulos sin discusión particular. Por eso @KBanfi me grita toma un rivotril en un acto machista y misogino lamentable…— Carolina Gaillard (@CaroGaillard) April 29, 2024\\nPor su parte, la diputada acusada contestó este mensaje con uno propio a través del mismo medio. “Y vos le dijiste ‘sionista’ como insultó a la diputada Sabrina Ajmechet”, lanzó, sumándose a la denuncia que hizo la legisladora de Pro durante su discurso en la Cámara de Diputados.“Nos insultaste a nosotras también, que peleamos y pedimos por la liberación de los argentinos secuestrados por Hamas, que viola y mata a mujeres como vos y como yo. Y dejalo acá, no te conviene que siga”, advirtió.Y vos le dijiste “sionista” como insultó a la diputada @ajmechet y nos insultaste a mi también que peleamos y pedimos por la liberación de los argentinos secuestrados por HAMAS que viola y mata a mujeres como vos y cómo yo. Y déjalo acá, no te conviene que siga.— Karina Banfi 💚 (@KBanfi) April 29, 2024', metadata={'source': 'https://www.lanacion.com.ar/politica/gritos-y-tension-en-diputados-pedidos-de-ansioliticos-e-insultos-en-el-recinto-durante-el-debate-por-nid29042024/', 'title': 'El debate por la Ley Bases comenzó con un pedido de ansiolíticos e insultos en Diputados - LA NACION', 'description': 'La sesión para debatir la normativa impulsada por el Gobierno comenzó con fuertes intercambios entre los legisladores - LA NACION', 'language': 'es'})]"
      ]
     },
     "execution_count": 19,
     "metadata": {},
     "output_type": "execute_result"
    }
   ],
   "source": [
    "from langchain_core.messages import HumanMessage, AIMessage\n",
    "\n",
    "chat_history = [HumanMessage(content=\"Que paso hoy en la camara de diputados?\"),\n",
    "                AIMessage(content='''\n",
    "                \n",
    "                Hoy en la Cámara de Diputados hubo tensiones\n",
    "                y cruces entre legisladores durante la sesión\n",
    "                para debatir la Ley de Bases y el paquete fiscal impulsado\n",
    "                por el gobierno de Javier Milei.\n",
    "                Los diputados estaban discutiendo\n",
    "                y votando sobre la mencionada ley y el paquete fiscal.\n",
    "\n",
    "                ''')]\n",
    "retriever_chain.invoke({\n",
    "    \"chat_history\": chat_history,\n",
    "    \"input\": \"Entre quienes hubo tension?\"\n",
    "})\n"
   ]
  },
  {
   "cell_type": "markdown",
   "id": "61e1b4f1-f6af-4497-8450-ae518f007035",
   "metadata": {},
   "source": [
    "Esto nos da documentos acerca de que paso hoy en la cámara de diputados, esto se debe a que el LLM genero una nueva query combinando el *chat_history* con la pregunta subsecuente\n",
    "\n",
    "Ahora que tenés este **retriever crea querys basado en contexto y preguntas subsecuentets**, podes crear una nueva _chain_ para seguir la conversación con estos artículos en mente"
   ]
  },
  {
   "cell_type": "code",
   "execution_count": 20,
   "id": "b5ba4167-8f0d-4df8-adc1-31a8d8c30cd5",
   "metadata": {},
   "outputs": [],
   "source": [
    "prompt = ChatPromptTemplate.from_messages([\n",
    "    (\"system\", \"Answer the user's questions based on the below context:\\n\\n{context}\"),\n",
    "    (\"user\", \"{input}\"),\n",
    "])\n",
    "\n",
    "document_chain = create_stuff_documents_chain(llm, prompt)\n",
    "\n",
    "retrieval_chain = create_retrieval_chain(retriever_chain, document_chain)"
   ]
  },
  {
   "cell_type": "code",
   "execution_count": 21,
   "id": "77b441d6-5fdf-4f05-bcf0-7e4e4486b536",
   "metadata": {
    "scrolled": true
   },
   "outputs": [
    {
     "data": {
      "text/plain": [
       "{'chat_history': [HumanMessage(content='Que paso hoy en la camara de diputados?'),\n",
       "  AIMessage(content='\\n                \\n                Hoy en la Cámara de Diputados hubo tensiones\\n                y cruces entre legisladores durante la sesión\\n                para debatir la Ley de Bases y el paquete fiscal impulsado\\n                por el gobierno de Javier Milei.\\n                Los diputados estaban discutiendo\\n                y votando sobre la mencionada ley y el paquete fiscal.\\n\\n                ')],\n",
       " 'input': 'Entre quienes hubo tension?',\n",
       " 'context': [Document(page_content='Los cruces previosPrevio a lograr el quorum con 135 diputados, la sesión comenzó con tensiones debido a los cruces y acusaciones entre los legisladores de la Cámara de Diputados. El primer conflicto se dio segundos después de que Menem abriera la jornada debido a desacuerdos sobre cómo funcionaría el ordenamiento de la discusión en el recinto, que finalmente se definió sería en particular por capítulos y de manera nominal. “Arrancamos mal”, lamentó Germán Martínez -jefe de la bancada de UP-, y agregó: “En labor parlamentaria fijamos una posición sobre que los temas merecen un tratamiento diferencial. No alcanza con decir que el paquete fiscal estuvo incluido en el expediente; el volumen que alcanzó la cuestión fiscal -junto con el debate de la ley ómnibus- requieren un tratamiento diferenciado”.El diputado Germán Martínez, durante la sesión en el Congreso.Fabián MarelliAdemás, cuestionó que unificar temas representa “un límite en la libertad de expresión de los diputados” y apeló a que “falta sentido común” en el oficialismo. “Usted dice que hay acuerdo cuando en realidad lo que está haciendo es imponer”, lanzó directamente hacia el presidente de la Cámara, y acusó: “Más allá de acuerdos que tejieron ustedes en reuniones fuera de labor el viernes por la noche con el ‘club de amigos’, quiero aclarar que acá no hubo la cantidad de manos disponibles”.Frente a esta acusación, la primera en contestar fue la diputada nacional de Pro, Silvana Giudici, que cuestionó a aquellos que afirman que la sesión es de carácter ilegal. “El orden de labor parlamentaria se votó mano a mano, y encima el presidente (por Menem) les está dando la votación nominal”, defendió. “Acá no hay un club de amigos, pasó algo novedoso que es que se terminó la mayoría automática. Los bloques que muy forzosamente nos pusimos de acuerdo en la labor parlamentaria explican el sentido del boto. Si los diputados están ansiosos y quieren adelantar el voto particular tienen que esperar, ahora corresponde arrancar con la sesión de la Ley de Bases”.Otra que se mostró eufórica durante su pedido para hablar fue la diputada del Frente de Izquierda Myriam Bregman, que adelantó el rechazo del tratamiento de parte de su bloque, y acusó al Gobierno de que solo “se escucha el lobby que hacen desde arriba”. “Hace dos meses nos dijeron que estábamos cambiando el funcionamiento de la casta, que todo se hacía de cara al pueblo; hoy solo les importó que esto se vote entre gallos y medianoches cuando nadie lo está viendo. Queremos que haya cuarto intermedio y se vote en horarios normales”, solicitó.LA NACIONSeguí leyendoTras la advertencia de opositores. El Gobierno aseguró que no cerrará el Banco Nacional de Datos GenéticosPrincipales puntos. Qué dice la reforma laboral que se incluyó en la Ley BasesProyecto. El texto completo de la Ley de Bases que se debate en DiputadosTemasCámara de DiputadosCongreso NacionalActualidad políticaConforme a  los criterios deConocé The Trust ProjectMás leídas de PolíticaProyecto. El texto completo de la Ley de Bases que se debate en DiputadosChaco. Antes de que la causa llegue a juicio, los padres de César Sena quedaron fuera de la acusación de matar a CeciliaCasi 20 años después. Elevan a juicio un segundo tramo del caso Skanska por coimas para la construcción de gaseoductosLa ausencia de Pagano. Pese a las fracturas internas, los libertarios votarán cohesionados la Ley Bases de MileiOtras noticias de\\xa0Cámara de DiputadosDebate en Diputados. Cecilia Moreau: “Esta ley es una reforma constitucional encubierta”Diputados. El Gobierno confía en aprobar la Ley Bases y el paquete fiscal, pero teme una votación ajustada en tres puntos clave\"Vaciamiento\". Según ATE, el paro en el Senasa tiene un alto acatamientoÚltimas NoticiasDebate en Diputados. Cecilia Moreau: “Esta ley es una reforma constitucional encubierta”Diputados. El Gobierno confía en aprobar la Ley Bases y el paquete fiscal, pero teme una votación ajustada en tres puntos claveLey Bases. Karina Milei', metadata={'source': 'https://www.lanacion.com.ar/politica/gritos-y-tension-en-diputados-pedidos-de-ansioliticos-e-insultos-en-el-recinto-durante-el-debate-por-nid29042024/', 'title': 'El debate por la Ley Bases comenzó con un pedido de ansiolíticos e insultos en Diputados - LA NACION', 'description': 'La sesión para debatir la normativa impulsada por el Gobierno comenzó con fuertes intercambios entre los legisladores - LA NACION', 'language': 'es'}),\n",
       "  Document(page_content='El debate por la Ley Bases comenzó con un pedido de ansiolíticos e insultos en Diputados - LA NACION', metadata={'source': 'https://www.lanacion.com.ar/politica/gritos-y-tension-en-diputados-pedidos-de-ansioliticos-e-insultos-en-el-recinto-durante-el-debate-por-nid29042024/', 'title': 'El debate por la Ley Bases comenzó con un pedido de ansiolíticos e insultos en Diputados - LA NACION', 'description': 'La sesión para debatir la normativa impulsada por el Gobierno comenzó con fuertes intercambios entre los legisladores - LA NACION', 'language': 'es'}),\n",
       "  Document(page_content='ley es una reforma constitucional encubierta”Diputados. El Gobierno confía en aprobar la Ley Bases y el paquete fiscal, pero teme una votación ajustada en tres puntos claveLey Bases. Karina Milei y Francos supervisan negociaciones en el Congreso y el oficialismo tantea de cerca a los dialoguistas y a PaganoSeccionesÚltimas noticiasPolíticaEconomíaEl mundoSociedadOpiniónDeportesLifestyleEspectáculosEdición impresaLN+Club LA NACIONRevistasOHLALÁ!¡HOLA!LIVINGJARDÍNLUGARESROLLING STONEBonvivirColeccionesMáster en periodismoFundación LA NACIONMapa del sitioAyudaAtención al socioTérminos y condiciones¿Cómo anunciar?Suscribirse al diario impresoRedes sociales:Descargá la app:© Copyright 2024 SA LA NACION | Todos los derechos reservados. Dirección Nacional del Derecho de Autor DNDA - EXPEDIENTE DNDA (renovación) RL-2023-95334553-APN-DNDA#MJ.Queda prohibida la reproducción total o parcial del presente diario.Protegido por reCAPTCHA: CondicionesPrivacidadMiembro de GDA. Grupo de Diarios AméricaCargando banners ...Descargá la aplicación de LA NACION. Es rápida y liviana.No, graciasAceptar¿Querés recibir notificaciones de alertas?No, graciasAceptarHa ocurrido un error de conexiónCerrar', metadata={'source': 'https://www.lanacion.com.ar/politica/gritos-y-tension-en-diputados-pedidos-de-ansioliticos-e-insultos-en-el-recinto-durante-el-debate-por-nid29042024/', 'title': 'El debate por la Ley Bases comenzó con un pedido de ansiolíticos e insultos en Diputados - LA NACION', 'description': 'La sesión para debatir la normativa impulsada por el Gobierno comenzó con fuertes intercambios entre los legisladores - LA NACION', 'language': 'es'}),\n",
       "  Document(page_content='CERRARCERRARSECCIONESInicioSeccionesMis NotasClub LNPerfilBuscá en LA NACION...Últimas noticiasTránsito y transporteClimaLA NACION DataPolíticaEconomíaDólar HoyCampoPropiedadesComercio ExteriorMovilidadÍndicesEl MundoEstados UnidosSociedadBuenos AiresSeguridadEducaciónCulturaComunidadBienestarCienciaHablemos de todoOpiniónEditorialesColumnistasCartas de SuscriptoresDeportesFútbolRugbyTenisCanchallenaLifestyleLN JuegosTurismoTecnologíaHoróscopoFeriadosLoterías y quinielasRecetasPodcastsModa y BellezaEspectáculosCartelera de cineCartelera de teatroEdición ImpresaAcceso PDFEditorialesConversaciones de domingoSábadoIdeasCarta de lectoresAvisos fúnebresAvisos socialesRevistasRevista OHLALÁ!Revista ¡HOLA!Revista LugaresRevista LivingRevista Rolling StoneRevista JardínLN+Exclusivo SuscriptoresKiosco LA NACIONClub LA NACION>LA NACION>PolíticaGritos y tensión en Diputados: pedido de ansiolíticos e insultos en el recinto durante el debate por\\xa0la\\xa0Ley\\xa0BasesLa sesión para debatir la normativa impulsada por el Gobierno comenzó con fuertes intercambios entre los legisladores29 de abril de 202415:53LA NACIONLa diputada Carolina Gaillard, a los gritosFabián Marelli - LA NACIÓNCompartirEscucharPocos minutos después de haber comenzado la sesión por la Ley de Bases y el paquete fiscal que busca aprobar el gobierno de Javier Milei, los primeros cruces entre diputados comenzaron. Mientras el legislador de la Unión Cívica Radical (UCR), Rodrigo de Loredo, trataba de hablar -autorizado por el presidente de la Cámara, Martín Menem- se escuchaban gritos y acusaciones entre miembros del recinto.“¡Ridícula!”, exclamó una voz, y la discusión siguió: “Dale un rivotril a [Carolina] Gaillard que está sacada”. Las voces salían de los micrófonos -incluso apagados- en la Cámara baja. La acusación fue directamente contra la diputada entrerriana de Unión por la Patria (UP), que minutos antes había pedido efervescentemente que no le diera a Milei “la capacidad de disolver organismos estatales”. Todo el griterío despertó el visible malestar de Menem, que reclamó orden.Tras esto, la diputada acusada utilizó su cuenta de la red social X para responder a las acusaciones que ella misma le atribuyó a Karina Banfi, vicepresidenta del bloque de la UCR. “Soy vehemente y pasional. No especuló jamás. Ni cocino leyes de espaldas a mi pueblo por eso el enojo de que decidan con el aval del Bloque de Diputados UCR votar por capítulos sin discusión particular”, justificó.Y acusó: “Por eso @KBanfi [el usuario de su par de la UCR] me grita ‘tomá un rivotril’, en un acto machista y misógino lamentable de una colega que se dice sorora”.Soy vehemente y pasional. No especuló jamás. Ni cocino leyes de espaldas a mi pueblo por eso el enojo de que decidan con el aval de la @diputadosucr votar por capítulos sin discusión particular. Por eso @KBanfi me grita toma un rivotril en un acto machista y misogino lamentable…— Carolina Gaillard (@CaroGaillard) April 29, 2024\\nPor su parte, la diputada acusada contestó este mensaje con uno propio a través del mismo medio. “Y vos le dijiste ‘sionista’ como insultó a la diputada Sabrina Ajmechet”, lanzó, sumándose a la denuncia que hizo la legisladora de Pro durante su discurso en la Cámara de Diputados.“Nos insultaste a nosotras también, que peleamos y pedimos por la liberación de los argentinos secuestrados por Hamas, que viola y mata a mujeres como vos y como yo. Y dejalo acá, no te conviene que siga”, advirtió.Y vos le dijiste “sionista” como insultó a la diputada @ajmechet y nos insultaste a mi también que peleamos y pedimos por la liberación de los argentinos secuestrados por HAMAS que viola y mata a mujeres como vos y cómo yo. Y déjalo acá, no te conviene que siga.— Karina Banfi 💚 (@KBanfi) April 29, 2024', metadata={'source': 'https://www.lanacion.com.ar/politica/gritos-y-tension-en-diputados-pedidos-de-ansioliticos-e-insultos-en-el-recinto-durante-el-debate-por-nid29042024/', 'title': 'El debate por la Ley Bases comenzó con un pedido de ansiolíticos e insultos en Diputados - LA NACION', 'description': 'La sesión para debatir la normativa impulsada por el Gobierno comenzó con fuertes intercambios entre los legisladores - LA NACION', 'language': 'es'})],\n",
       " 'answer': 'Entre los legisladores de la Cámara de Diputados, hubo tensiones y acusaciones durante el debate por la Ley de Bases y el paquete fiscal. Algunos de los involucrados en los cruces fueron el diputado Germán Martínez, la diputada Silvana Giudici, la diputada Myriam Bregman, la diputada Carolina Gaillard, y la diputada Karina Banfi.'}"
      ]
     },
     "execution_count": 21,
     "metadata": {},
     "output_type": "execute_result"
    }
   ],
   "source": [
    "chat_history = [HumanMessage(content=\"Que paso hoy en la camara de diputados?\"),\n",
    "                AIMessage(content='''\n",
    "                \n",
    "                Hoy en la Cámara de Diputados hubo tensiones\n",
    "                y cruces entre legisladores durante la sesión\n",
    "                para debatir la Ley de Bases y el paquete fiscal impulsado\n",
    "                por el gobierno de Javier Milei.\n",
    "                Los diputados estaban discutiendo\n",
    "                y votando sobre la mencionada ley y el paquete fiscal.\n",
    "\n",
    "                ''')]\n",
    "response = retrieval_chain.invoke({\n",
    "    \"chat_history\": chat_history,\n",
    "    \"input\": \"Entre quienes hubo tension?\"\n",
    "})\n",
    "response"
   ]
  },
  {
   "cell_type": "markdown",
   "id": "a14196b4-3542-4d0f-ac07-dfa39b6b2396",
   "metadata": {},
   "source": [
    "Si disecamos la respuesta entre la selva veremos que la respuesta es coherente dado el contexto"
   ]
  },
  {
   "cell_type": "code",
   "execution_count": 22,
   "id": "67b0e8f1-182d-4075-9524-eafe10d38a2b",
   "metadata": {},
   "outputs": [
    {
     "name": "stdout",
     "output_type": "stream",
     "text": [
      "Entre los legisladores de la Cámara de Diputados, hubo tensiones y acusaciones durante el debate por la Ley de Bases y el paquete fiscal. Algunos de los involucrados en los cruces fueron el diputado Germán Martínez, la diputada Silvana Giudici, la diputada Myriam Bregman, la diputada Carolina Gaillard, y la diputada Karina Banfi.\n"
     ]
    }
   ],
   "source": [
    "print(response[\"answer\"])"
   ]
  },
  {
   "cell_type": "markdown",
   "id": "cc354974-075c-409e-87f8-e406227a8fae",
   "metadata": {},
   "source": [
    "## <center>Agents</centter>"
   ]
  },
  {
   "cell_type": "markdown",
   "id": "50d5c3c7-91cd-4fba-a9f9-5efd5f504d31",
   "metadata": {},
   "source": [
    "Our current chains knows each step ahead of time. Now is time for _Agents_ to decide what actions to take based on the tools we give them  \n",
    "\n",
    "we will give them access to two tools:\n",
    "\n",
    "1. The retriever created before\n",
    "2. A search tool to answer question requiring up-to-date information\n"
   ]
  },
  {
   "cell_type": "code",
   "execution_count": 23,
   "id": "667a0fa5-a43b-4c5a-a5ce-e7eb71b808eb",
   "metadata": {},
   "outputs": [],
   "source": [
    "from langchain.tools.retriever import create_retriever_tool\n",
    "\n",
    "retriever_tool = create_retriever_tool(\n",
    "    retriever,\n",
    "    \"Incidente_diputados_search\",\n",
    "    \"Busca informacion acerca del incidente en la camara de diputados. Para cualquier pregunta acerca de diputados, You must use this tool!\" \n",
    ")"
   ]
  },
  {
   "cell_type": "markdown",
   "id": "b36cc7ce-1c1b-4c3c-bbf7-c3732a2c7cc1",
   "metadata": {},
   "source": [
    "For the search tool we'll use [Tavily](https://python.langchain.com/docs/integrations/retrievers/tavily/) "
   ]
  },
  {
   "cell_type": "code",
   "execution_count": 24,
   "id": "985a9d7a-2e3b-4ab9-a74a-a019d88d3c0a",
   "metadata": {},
   "outputs": [],
   "source": [
    "from langchain_community.tools.tavily_search import TavilySearchResults\n",
    "\n",
    "search = TavilySearchResults()"
   ]
  },
  {
   "cell_type": "markdown",
   "id": "f5b23fad-c856-4b92-9cd7-32f6cdd66ad3",
   "metadata": {},
   "source": [
    "Now we create a list of tools for the _Agent_"
   ]
  },
  {
   "cell_type": "code",
   "execution_count": 25,
   "id": "8db88879-09b1-4611-8d8c-e37c6d9554ab",
   "metadata": {},
   "outputs": [],
   "source": [
    "tools = [retriever_tool, search]"
   ]
  },
  {
   "cell_type": "markdown",
   "id": "6eabb161-adee-4de1-a6ee-78d8d7c49b48",
   "metadata": {},
   "source": [
    "With the tools ready we just need to create the Agent"
   ]
  },
  {
   "cell_type": "code",
   "execution_count": 26,
   "id": "2fb1368f-79f9-4f4d-814c-3f6e125d06b7",
   "metadata": {},
   "outputs": [],
   "source": [
    "from langchain_openai import ChatOpenAI\n",
    "from langchain import hub\n",
    "from langchain.agents import create_openai_tools_agent\n",
    "from langchain.agents import AgentExecutor\n",
    "\n",
    "# Get the prompt to use (se puede cambiar)\n",
    "prompt = hub.pull(\"hwchase17/openai-functions-agent\")\n",
    "\n",
    "llm = ChatOpenAI(model=\"gpt-3.5-turbo\", temperature=0)\n",
    "agent = create_openai_tools_agent(llm, tools, prompt)\n",
    "agent_executor = AgentExecutor(agent=agent, tools=tools, verbose=True)"
   ]
  },
  {
   "cell_type": "markdown",
   "id": "854c87ea-b18c-4502-b5c5-9dd1b1854494",
   "metadata": {},
   "source": [
    "Ahora podemos invocar al agente y preguntarle del incidente"
   ]
  },
  {
   "cell_type": "code",
   "execution_count": 27,
   "id": "712df7e1-139d-49f0-9e06-fc0c01d222aa",
   "metadata": {
    "scrolled": true
   },
   "outputs": [
    {
     "name": "stdout",
     "output_type": "stream",
     "text": [
      "\n",
      "\n",
      "\u001b[1m> Entering new AgentExecutor chain...\u001b[0m\n",
      "\u001b[32;1m\u001b[1;3m\n",
      "Invoking: `Incidente_diputados_search` with `{'query': 'incidente en diputados Argentina hoy'}`\n",
      "\n",
      "\n",
      "\u001b[0m\u001b[36;1m\u001b[1;3mCERRARCERRARSECCIONESInicioSeccionesMis NotasClub LNPerfilBuscá en LA NACION...Últimas noticiasTránsito y transporteClimaLA NACION DataPolíticaEconomíaDólar HoyCampoPropiedadesComercio ExteriorMovilidadÍndicesEl MundoEstados UnidosSociedadBuenos AiresSeguridadEducaciónCulturaComunidadBienestarCienciaHablemos de todoOpiniónEditorialesColumnistasCartas de SuscriptoresDeportesFútbolRugbyTenisCanchallenaLifestyleLN JuegosTurismoTecnologíaHoróscopoFeriadosLoterías y quinielasRecetasPodcastsModa y BellezaEspectáculosCartelera de cineCartelera de teatroEdición ImpresaAcceso PDFEditorialesConversaciones de domingoSábadoIdeasCarta de lectoresAvisos fúnebresAvisos socialesRevistasRevista OHLALÁ!Revista ¡HOLA!Revista LugaresRevista LivingRevista Rolling StoneRevista JardínLN+Exclusivo SuscriptoresKiosco LA NACIONClub LA NACION>LA NACION>PolíticaGritos y tensión en Diputados: pedido de ansiolíticos e insultos en el recinto durante el debate por la Ley BasesLa sesión para debatir la normativa impulsada por el Gobierno comenzó con fuertes intercambios entre los legisladores29 de abril de 202415:53LA NACIONLa diputada Carolina Gaillard, a los gritosFabián Marelli - LA NACIÓNCompartirEscucharPocos minutos después de haber comenzado la sesión por la Ley de Bases y el paquete fiscal que busca aprobar el gobierno de Javier Milei, los primeros cruces entre diputados comenzaron. Mientras el legislador de la Unión Cívica Radical (UCR), Rodrigo de Loredo, trataba de hablar -autorizado por el presidente de la Cámara, Martín Menem- se escuchaban gritos y acusaciones entre miembros del recinto.“¡Ridícula!”, exclamó una voz, y la discusión siguió: “Dale un rivotril a [Carolina] Gaillard que está sacada”. Las voces salían de los micrófonos -incluso apagados- en la Cámara baja. La acusación fue directamente contra la diputada entrerriana de Unión por la Patria (UP), que minutos antes había pedido efervescentemente que no le diera a Milei “la capacidad de disolver organismos estatales”. Todo el griterío despertó el visible malestar de Menem, que reclamó orden.Tras esto, la diputada acusada utilizó su cuenta de la red social X para responder a las acusaciones que ella misma le atribuyó a Karina Banfi, vicepresidenta del bloque de la UCR. “Soy vehemente y pasional. No especuló jamás. Ni cocino leyes de espaldas a mi pueblo por eso el enojo de que decidan con el aval del Bloque de Diputados UCR votar por capítulos sin discusión particular”, justificó.Y acusó: “Por eso @KBanfi [el usuario de su par de la UCR] me grita ‘tomá un rivotril’, en un acto machista y misógino lamentable de una colega que se dice sorora”.Soy vehemente y pasional. No especuló jamás. Ni cocino leyes de espaldas a mi pueblo por eso el enojo de que decidan con el aval de la @diputadosucr votar por capítulos sin discusión particular. Por eso @KBanfi me grita toma un rivotril en un acto machista y misogino lamentable…— Carolina Gaillard (@CaroGaillard) April 29, 2024\n",
      "Por su parte, la diputada acusada contestó este mensaje con uno propio a través del mismo medio. “Y vos le dijiste ‘sionista’ como insultó a la diputada Sabrina Ajmechet”, lanzó, sumándose a la denuncia que hizo la legisladora de Pro durante su discurso en la Cámara de Diputados.“Nos insultaste a nosotras también, que peleamos y pedimos por la liberación de los argentinos secuestrados por Hamas, que viola y mata a mujeres como vos y como yo. Y dejalo acá, no te conviene que siga”, advirtió.Y vos le dijiste “sionista” como insultó a la diputada @ajmechet y nos insultaste a mi también que peleamos y pedimos por la liberación de los argentinos secuestrados por HAMAS que viola y mata a mujeres como vos y cómo yo. Y déjalo acá, no te conviene que siga.— Karina Banfi 💚 (@KBanfi) April 29, 2024\n",
      "\n",
      "El debate por la Ley Bases comenzó con un pedido de ansiolíticos e insultos en Diputados - LA NACION\n",
      "\n",
      "Los cruces previosPrevio a lograr el quorum con 135 diputados, la sesión comenzó con tensiones debido a los cruces y acusaciones entre los legisladores de la Cámara de Diputados. El primer conflicto se dio segundos después de que Menem abriera la jornada debido a desacuerdos sobre cómo funcionaría el ordenamiento de la discusión en el recinto, que finalmente se definió sería en particular por capítulos y de manera nominal. “Arrancamos mal”, lamentó Germán Martínez -jefe de la bancada de UP-, y agregó: “En labor parlamentaria fijamos una posición sobre que los temas merecen un tratamiento diferencial. No alcanza con decir que el paquete fiscal estuvo incluido en el expediente; el volumen que alcanzó la cuestión fiscal -junto con el debate de la ley ómnibus- requieren un tratamiento diferenciado”.El diputado Germán Martínez, durante la sesión en el Congreso.Fabián MarelliAdemás, cuestionó que unificar temas representa “un límite en la libertad de expresión de los diputados” y apeló a que “falta sentido común” en el oficialismo. “Usted dice que hay acuerdo cuando en realidad lo que está haciendo es imponer”, lanzó directamente hacia el presidente de la Cámara, y acusó: “Más allá de acuerdos que tejieron ustedes en reuniones fuera de labor el viernes por la noche con el ‘club de amigos’, quiero aclarar que acá no hubo la cantidad de manos disponibles”.Frente a esta acusación, la primera en contestar fue la diputada nacional de Pro, Silvana Giudici, que cuestionó a aquellos que afirman que la sesión es de carácter ilegal. “El orden de labor parlamentaria se votó mano a mano, y encima el presidente (por Menem) les está dando la votación nominal”, defendió. “Acá no hay un club de amigos, pasó algo novedoso que es que se terminó la mayoría automática. Los bloques que muy forzosamente nos pusimos de acuerdo en la labor parlamentaria explican el sentido del boto. Si los diputados están ansiosos y quieren adelantar el voto particular tienen que esperar, ahora corresponde arrancar con la sesión de la Ley de Bases”.Otra que se mostró eufórica durante su pedido para hablar fue la diputada del Frente de Izquierda Myriam Bregman, que adelantó el rechazo del tratamiento de parte de su bloque, y acusó al Gobierno de que solo “se escucha el lobby que hacen desde arriba”. “Hace dos meses nos dijeron que estábamos cambiando el funcionamiento de la casta, que todo se hacía de cara al pueblo; hoy solo les importó que esto se vote entre gallos y medianoches cuando nadie lo está viendo. Queremos que haya cuarto intermedio y se vote en horarios normales”, solicitó.LA NACIONSeguí leyendoTras la advertencia de opositores. El Gobierno aseguró que no cerrará el Banco Nacional de Datos GenéticosPrincipales puntos. Qué dice la reforma laboral que se incluyó en la Ley BasesProyecto. El texto completo de la Ley de Bases que se debate en DiputadosTemasCámara de DiputadosCongreso NacionalActualidad políticaConforme a  los criterios deConocé The Trust ProjectMás leídas de PolíticaProyecto. El texto completo de la Ley de Bases que se debate en DiputadosChaco. Antes de que la causa llegue a juicio, los padres de César Sena quedaron fuera de la acusación de matar a CeciliaCasi 20 años después. Elevan a juicio un segundo tramo del caso Skanska por coimas para la construcción de gaseoductosLa ausencia de Pagano. Pese a las fracturas internas, los libertarios votarán cohesionados la Ley Bases de MileiOtras noticias de Cámara de DiputadosDebate en Diputados. Cecilia Moreau: “Esta ley es una reforma constitucional encubierta”Diputados. El Gobierno confía en aprobar la Ley Bases y el paquete fiscal, pero teme una votación ajustada en tres puntos clave\"Vaciamiento\". Según ATE, el paro en el Senasa tiene un alto acatamientoÚltimas NoticiasDebate en Diputados. Cecilia Moreau: “Esta ley es una reforma constitucional encubierta”Diputados. El Gobierno confía en aprobar la Ley Bases y el paquete fiscal, pero teme una votación ajustada en tres puntos claveLey Bases. Karina Milei\n",
      "\n",
      "ley es una reforma constitucional encubierta”Diputados. El Gobierno confía en aprobar la Ley Bases y el paquete fiscal, pero teme una votación ajustada en tres puntos claveLey Bases. Karina Milei y Francos supervisan negociaciones en el Congreso y el oficialismo tantea de cerca a los dialoguistas y a PaganoSeccionesÚltimas noticiasPolíticaEconomíaEl mundoSociedadOpiniónDeportesLifestyleEspectáculosEdición impresaLN+Club LA NACIONRevistasOHLALÁ!¡HOLA!LIVINGJARDÍNLUGARESROLLING STONEBonvivirColeccionesMáster en periodismoFundación LA NACIONMapa del sitioAyudaAtención al socioTérminos y condiciones¿Cómo anunciar?Suscribirse al diario impresoRedes sociales:Descargá la app:© Copyright 2024 SA LA NACION | Todos los derechos reservados. Dirección Nacional del Derecho de Autor DNDA - EXPEDIENTE DNDA (renovación) RL-2023-95334553-APN-DNDA#MJ.Queda prohibida la reproducción total o parcial del presente diario.Protegido por reCAPTCHA: CondicionesPrivacidadMiembro de GDA. Grupo de Diarios AméricaCargando banners ...Descargá la aplicación de LA NACION. Es rápida y liviana.No, graciasAceptar¿Querés recibir notificaciones de alertas?No, graciasAceptarHa ocurrido un error de conexiónCerrar\u001b[0m\u001b[32;1m\u001b[1;3mLas personas involucradas en el incidente en diputados Argentina de hoy son:\n",
      "\n",
      "1. Carolina Gaillard\n",
      "2. Karina Banfi\n",
      "3. Silvana Giudici\n",
      "4. Myriam Bregman\u001b[0m\n",
      "\n",
      "\u001b[1m> Finished chain.\u001b[0m\n",
      "Las personas involucradas en el incidente en diputados Argentina de hoy son:\n",
      "\n",
      "1. Carolina Gaillard\n",
      "2. Karina Banfi\n",
      "3. Silvana Giudici\n",
      "4. Myriam Bregman\n"
     ]
    }
   ],
   "source": [
    "agent_response = agent_executor.invoke({\n",
    "    \"input\": \"Dame solo los nombres de las personas involucradas en el incidente en diputados Argentina de hoy\"\n",
    "})\n",
    "\n",
    "print(agent_response[\"output\"])"
   ]
  },
  {
   "cell_type": "code",
   "execution_count": 28,
   "id": "e500173d-03f7-4fd5-a347-343a0f7ecc08",
   "metadata": {},
   "outputs": [
    {
     "name": "stdout",
     "output_type": "stream",
     "text": [
      "\n",
      "\n",
      "\u001b[1m> Entering new AgentExecutor chain...\u001b[0m\n",
      "\u001b[32;1m\u001b[1;3m\n",
      "Invoking: `tavily_search_results_json` with `{'query': 'clima en Buenos Aires'}`\n",
      "\n",
      "\n",
      "\u001b[0m\u001b[33;1m\u001b[1;3m[{'url': 'https://www.meteored.com.ar/tiempo-en_Buenos+Aires-America+Sur-Argentina-Ciudad+Autonoma+de+Buenos+Aires-SABE-1-13584.html', 'content': 'Tiempo en Buenos Aires - Pronóstico del tiempo a 14 días. Los datos sobre el Tiempo, temperatura, velocidad del viento, la humedad, la cota de nieve, presión, etc . Buenos Aires Argentina 18. Mar del Plata Provincia de Buenos Aires 16. La Plata Provincia de Buenos Aires 17. Bahía Blanca Provincia de Buenos Aires 17. Tiempo; Noticias;'}, {'url': 'https://www.tiempo.com/buenos-aires.htm', 'content': 'Consulta el pronóstico del tiempo para Buenos Aires hoy y los próximos días. Temperatura, lluvia, viento, nubosidad y más datos meteorológicos actualizados.'}, {'url': 'https://www.accuweather.com/en/ar/buenos-aires/7894/weather-forecast/7894', 'content': 'Get the current and future weather conditions for Buenos Aires, Argentina, including temperature, humidity, wind, air quality and more. See the hourly, 10-day and radar maps for Buenos Aires.'}, {'url': 'https://www.accuweather.com/es/ar/buenos-aires/7894/hourly-weather-forecast/7894', 'content': 'Buenos Aires, Ciudad Autónoma de Buenos Aires\\nBuenos Aires\\nCiudad Autónoma de Buenos Aires\\nAlrededor del mundo\\nAlrededor del mundo\\nHuracanes\\nMeteorología extrema\\nRadar y mapas\\nVídeo\\nCada hora\\n11\\nAviso amarillo por tormentas\\n6:00 lunes - 11:59 lunes\\nRealFeel Shade™68°\\nVientoE 13 mi/h\\nCalidad del aireExcelente\\nÍndice UV máx.2 Bajo\\nRáfagas18 mi/h\\nHumedad85\\xa0%\\nPunto de rocío68° F\\nNubosidad92\\xa0%\\nLluvia0.15 in\\nVisibilidad4 mi\\nTecho de nubes10400 ft\\n12\\nRealFeel Shade™70°\\nVientoE 14 mi/h\\nCalidad del aireExcelente\\nÍndice UV máx.2 Bajo\\nRáfagas21 mi/h\\nHumedad85\\xa0%\\nPunto de rocío68° F\\nNubosidad89\\xa0%\\nVisibilidad6 mi\\nTecho de nubes1900 ft\\n13\\nRealFeel Shade™70°\\nVientoE 14 mi/h\\nCalidad del aireExcelente\\nÍndice UV máx.2 Bajo\\nRáfagas22 mi/h\\nHumedad84\\xa0%\\nPunto de rocío68° F\\nNubosidad93\\xa0%\\nVisibilidad7 mi\\nTecho de nubes1900 ft\\n14\\nRealFeel Shade™73°\\nVientoE 13 mi/h\\nCalidad del aireExcelente\\nÍndice UV máx.1 Bajo\\nRáfagas23 mi/h\\nHumedad84\\xa0%\\nPunto de rocío68° F\\nNubosidad96\\xa0%\\nVisibilidad7 mi\\nTecho de nubes1900 ft\\n15\\nRealFeel Shade™74°\\nVientoENE 12 mi/h\\nCalidad del aireExcelente\\nÍndice UV máx.1 Bajo\\nRáfagas23 mi/h\\nHumedad83\\xa0%\\nPunto de rocío68° F\\nNubosidad100\\xa0%\\nVisibilidad7 mi\\nTecho de nubes1800 ft\\n16\\nRealFeel Shade™74°\\nVientoENE 12 mi/h\\nCalidad del aireExcelente\\nÍndice UV máx.1 Bajo\\nRáfagas24 mi/h\\nHumedad83\\xa0%\\nPunto de rocío68° F\\nNubosidad99\\xa0%\\nVisibilidad7 mi\\nTecho de nubes1800 ft\\n17\\nRealFeel Shade™75°\\nVientoNE 13 mi/h\\nCalidad del aireExcelente\\nÍndice UV máx.0 Bajo\\nRáfagas25 mi/h\\nHumedad81\\xa0%\\nPunto de rocío68° F\\nNubosidad99\\xa0%\\nVisibilidad7 mi\\nTecho de nubes1800 ft\\n18\\nRealFeel Shade™72°\\nVientoNE 12 mi/h\\nCalidad del aireExcelente\\nÍndice UV máx.0 Bajo\\nRáfagas27 mi/h\\nHumedad84\\xa0%\\nPunto de rocío69° F\\nNubosidad99\\xa0%\\nLluvia0.02 in\\nVisibilidad7 mi\\nTecho de nubes1800 ft\\n19\\nRealFeel Shade™74°\\nVientoNE 12 mi/h\\nCalidad del aireExcelente\\nÍndice UV máx.0 Bajo\\nRáfagas25 mi/h\\nHumedad84\\xa0%\\nPunto de rocío69° F\\nNubosidad83\\xa0%\\nVisibilidad7 mi\\nTecho de nubes1800 ft\\n20\\nVientoNE 12 mi/h\\nCalidad del aireExcelente\\nRáfagas24 mi/h\\nHumedad83\\xa0%\\nPunto de rocío68° F\\nNubosidad68\\xa0%\\nVisibilidad7 mi\\nTecho de nubes1800 ft\\n21\\nVientoNE 10 mi/h\\nCalidad del aireExcelente\\nRáfagas23 mi/h\\nHumedad82\\xa0%\\nPunto de rocío68° F\\nNubosidad53\\xa0%\\nVisibilidad7 mi\\nTecho de nubes30000 ft\\n22\\nVientoENE 9 mi/h\\nCalidad del aireBuena\\nRáfagas22 mi/h\\nHumedad82\\xa0%\\nPunto de rocío68° F\\nNubosidad57\\xa0%\\nVisibilidad7 mi\\nTecho de nubes30000 ft\\n23\\nVientoENE 9 mi/h\\nCalidad del aireExcelente\\nRáfagas22 mi/h\\nHumedad83\\xa0%\\nPunto de rocío68° F\\nNubosidad61\\xa0%\\nVisibilidad7 mi\\nTecho de nubes1800 ft\\nPrevisión futura\\nPrevisión futura\\nMañana\\nmiércoles\\nDiario\\nAlrededor del mundo\\nAlrededor del mundo\\nHuracanes\\nMeteorología extrema\\nRadar y mapas\\nVídeo\\nLugares cercanos:\\nHemos actualizado nuestra Política de privacidad y nuestra Política de cookies.\\n Recibe alertas de AccuWeather en su navegador en el momento\\nNotificaciones Habilitadas\\n¡Gracias! Te mantendremos al tanto.'}, {'url': 'https://www.accuweather.com/es/ar/buenos-aires/7894/weather-forecast/7894', 'content': 'Consulta el tiempo actual y la previsión para los próximos tres días en Buenos Aires, Ciudad Autónoma de Buenos Aires, Argentina. Encuentra información sobre temperatura, viento, lluvia, calidad del aire y alergias.'}]\u001b[0m\u001b[32;1m\u001b[1;3mPuedes consultar el pronóstico del tiempo para Buenos Aires en este [enlace](https://www.accuweather.com/es/ar/buenos-aires/7894/weather-forecast/7894). La temperatura actual es de aproximadamente 24°C.\u001b[0m\n",
      "\n",
      "\u001b[1m> Finished chain.\u001b[0m\n"
     ]
    }
   ],
   "source": [
    "agent_response = agent_executor.invoke({\n",
    "    \"input\": \"Como esta el clima en Buenos Aires ahora mismo?. Dame la temperatura en grados celcius\"\n",
    "})"
   ]
  },
  {
   "cell_type": "markdown",
   "id": "ecb7375a-6638-42b0-81be-514078049f45",
   "metadata": {},
   "source": [
    "We can have conversation"
   ]
  },
  {
   "cell_type": "code",
   "execution_count": 29,
   "id": "2fb4a9a2-626a-44b6-97c9-feeb61ca7e39",
   "metadata": {
    "scrolled": true
   },
   "outputs": [
    {
     "name": "stdout",
     "output_type": "stream",
     "text": [
      "\n",
      "\n",
      "\u001b[1m> Entering new AgentExecutor chain...\u001b[0m\n",
      "\u001b[32;1m\u001b[1;3m\n",
      "Invoking: `Incidente_diputados_search` with `{'query': 'Martin Menem'}`\n",
      "\n",
      "\n",
      "\u001b[0m\u001b[36;1m\u001b[1;3mLos cruces previosPrevio a lograr el quorum con 135 diputados, la sesión comenzó con tensiones debido a los cruces y acusaciones entre los legisladores de la Cámara de Diputados. El primer conflicto se dio segundos después de que Menem abriera la jornada debido a desacuerdos sobre cómo funcionaría el ordenamiento de la discusión en el recinto, que finalmente se definió sería en particular por capítulos y de manera nominal. “Arrancamos mal”, lamentó Germán Martínez -jefe de la bancada de UP-, y agregó: “En labor parlamentaria fijamos una posición sobre que los temas merecen un tratamiento diferencial. No alcanza con decir que el paquete fiscal estuvo incluido en el expediente; el volumen que alcanzó la cuestión fiscal -junto con el debate de la ley ómnibus- requieren un tratamiento diferenciado”.El diputado Germán Martínez, durante la sesión en el Congreso.Fabián MarelliAdemás, cuestionó que unificar temas representa “un límite en la libertad de expresión de los diputados” y apeló a que “falta sentido común” en el oficialismo. “Usted dice que hay acuerdo cuando en realidad lo que está haciendo es imponer”, lanzó directamente hacia el presidente de la Cámara, y acusó: “Más allá de acuerdos que tejieron ustedes en reuniones fuera de labor el viernes por la noche con el ‘club de amigos’, quiero aclarar que acá no hubo la cantidad de manos disponibles”.Frente a esta acusación, la primera en contestar fue la diputada nacional de Pro, Silvana Giudici, que cuestionó a aquellos que afirman que la sesión es de carácter ilegal. “El orden de labor parlamentaria se votó mano a mano, y encima el presidente (por Menem) les está dando la votación nominal”, defendió. “Acá no hay un club de amigos, pasó algo novedoso que es que se terminó la mayoría automática. Los bloques que muy forzosamente nos pusimos de acuerdo en la labor parlamentaria explican el sentido del boto. Si los diputados están ansiosos y quieren adelantar el voto particular tienen que esperar, ahora corresponde arrancar con la sesión de la Ley de Bases”.Otra que se mostró eufórica durante su pedido para hablar fue la diputada del Frente de Izquierda Myriam Bregman, que adelantó el rechazo del tratamiento de parte de su bloque, y acusó al Gobierno de que solo “se escucha el lobby que hacen desde arriba”. “Hace dos meses nos dijeron que estábamos cambiando el funcionamiento de la casta, que todo se hacía de cara al pueblo; hoy solo les importó que esto se vote entre gallos y medianoches cuando nadie lo está viendo. Queremos que haya cuarto intermedio y se vote en horarios normales”, solicitó.LA NACIONSeguí leyendoTras la advertencia de opositores. El Gobierno aseguró que no cerrará el Banco Nacional de Datos GenéticosPrincipales puntos. Qué dice la reforma laboral que se incluyó en la Ley BasesProyecto. El texto completo de la Ley de Bases que se debate en DiputadosTemasCámara de DiputadosCongreso NacionalActualidad políticaConforme a  los criterios deConocé The Trust ProjectMás leídas de PolíticaProyecto. El texto completo de la Ley de Bases que se debate en DiputadosChaco. Antes de que la causa llegue a juicio, los padres de César Sena quedaron fuera de la acusación de matar a CeciliaCasi 20 años después. Elevan a juicio un segundo tramo del caso Skanska por coimas para la construcción de gaseoductosLa ausencia de Pagano. Pese a las fracturas internas, los libertarios votarán cohesionados la Ley Bases de MileiOtras noticias de Cámara de DiputadosDebate en Diputados. Cecilia Moreau: “Esta ley es una reforma constitucional encubierta”Diputados. El Gobierno confía en aprobar la Ley Bases y el paquete fiscal, pero teme una votación ajustada en tres puntos clave\"Vaciamiento\". Según ATE, el paro en el Senasa tiene un alto acatamientoÚltimas NoticiasDebate en Diputados. Cecilia Moreau: “Esta ley es una reforma constitucional encubierta”Diputados. El Gobierno confía en aprobar la Ley Bases y el paquete fiscal, pero teme una votación ajustada en tres puntos claveLey Bases. Karina Milei\n",
      "\n",
      "El debate por la Ley Bases comenzó con un pedido de ansiolíticos e insultos en Diputados - LA NACION\n",
      "\n",
      "CERRARCERRARSECCIONESInicioSeccionesMis NotasClub LNPerfilBuscá en LA NACION...Últimas noticiasTránsito y transporteClimaLA NACION DataPolíticaEconomíaDólar HoyCampoPropiedadesComercio ExteriorMovilidadÍndicesEl MundoEstados UnidosSociedadBuenos AiresSeguridadEducaciónCulturaComunidadBienestarCienciaHablemos de todoOpiniónEditorialesColumnistasCartas de SuscriptoresDeportesFútbolRugbyTenisCanchallenaLifestyleLN JuegosTurismoTecnologíaHoróscopoFeriadosLoterías y quinielasRecetasPodcastsModa y BellezaEspectáculosCartelera de cineCartelera de teatroEdición ImpresaAcceso PDFEditorialesConversaciones de domingoSábadoIdeasCarta de lectoresAvisos fúnebresAvisos socialesRevistasRevista OHLALÁ!Revista ¡HOLA!Revista LugaresRevista LivingRevista Rolling StoneRevista JardínLN+Exclusivo SuscriptoresKiosco LA NACIONClub LA NACION>LA NACION>PolíticaGritos y tensión en Diputados: pedido de ansiolíticos e insultos en el recinto durante el debate por la Ley BasesLa sesión para debatir la normativa impulsada por el Gobierno comenzó con fuertes intercambios entre los legisladores29 de abril de 202415:53LA NACIONLa diputada Carolina Gaillard, a los gritosFabián Marelli - LA NACIÓNCompartirEscucharPocos minutos después de haber comenzado la sesión por la Ley de Bases y el paquete fiscal que busca aprobar el gobierno de Javier Milei, los primeros cruces entre diputados comenzaron. Mientras el legislador de la Unión Cívica Radical (UCR), Rodrigo de Loredo, trataba de hablar -autorizado por el presidente de la Cámara, Martín Menem- se escuchaban gritos y acusaciones entre miembros del recinto.“¡Ridícula!”, exclamó una voz, y la discusión siguió: “Dale un rivotril a [Carolina] Gaillard que está sacada”. Las voces salían de los micrófonos -incluso apagados- en la Cámara baja. La acusación fue directamente contra la diputada entrerriana de Unión por la Patria (UP), que minutos antes había pedido efervescentemente que no le diera a Milei “la capacidad de disolver organismos estatales”. Todo el griterío despertó el visible malestar de Menem, que reclamó orden.Tras esto, la diputada acusada utilizó su cuenta de la red social X para responder a las acusaciones que ella misma le atribuyó a Karina Banfi, vicepresidenta del bloque de la UCR. “Soy vehemente y pasional. No especuló jamás. Ni cocino leyes de espaldas a mi pueblo por eso el enojo de que decidan con el aval del Bloque de Diputados UCR votar por capítulos sin discusión particular”, justificó.Y acusó: “Por eso @KBanfi [el usuario de su par de la UCR] me grita ‘tomá un rivotril’, en un acto machista y misógino lamentable de una colega que se dice sorora”.Soy vehemente y pasional. No especuló jamás. Ni cocino leyes de espaldas a mi pueblo por eso el enojo de que decidan con el aval de la @diputadosucr votar por capítulos sin discusión particular. Por eso @KBanfi me grita toma un rivotril en un acto machista y misogino lamentable…— Carolina Gaillard (@CaroGaillard) April 29, 2024\n",
      "Por su parte, la diputada acusada contestó este mensaje con uno propio a través del mismo medio. “Y vos le dijiste ‘sionista’ como insultó a la diputada Sabrina Ajmechet”, lanzó, sumándose a la denuncia que hizo la legisladora de Pro durante su discurso en la Cámara de Diputados.“Nos insultaste a nosotras también, que peleamos y pedimos por la liberación de los argentinos secuestrados por Hamas, que viola y mata a mujeres como vos y como yo. Y dejalo acá, no te conviene que siga”, advirtió.Y vos le dijiste “sionista” como insultó a la diputada @ajmechet y nos insultaste a mi también que peleamos y pedimos por la liberación de los argentinos secuestrados por HAMAS que viola y mata a mujeres como vos y cómo yo. Y déjalo acá, no te conviene que siga.— Karina Banfi 💚 (@KBanfi) April 29, 2024\n",
      "\n",
      "ley es una reforma constitucional encubierta”Diputados. El Gobierno confía en aprobar la Ley Bases y el paquete fiscal, pero teme una votación ajustada en tres puntos claveLey Bases. Karina Milei y Francos supervisan negociaciones en el Congreso y el oficialismo tantea de cerca a los dialoguistas y a PaganoSeccionesÚltimas noticiasPolíticaEconomíaEl mundoSociedadOpiniónDeportesLifestyleEspectáculosEdición impresaLN+Club LA NACIONRevistasOHLALÁ!¡HOLA!LIVINGJARDÍNLUGARESROLLING STONEBonvivirColeccionesMáster en periodismoFundación LA NACIONMapa del sitioAyudaAtención al socioTérminos y condiciones¿Cómo anunciar?Suscribirse al diario impresoRedes sociales:Descargá la app:© Copyright 2024 SA LA NACION | Todos los derechos reservados. Dirección Nacional del Derecho de Autor DNDA - EXPEDIENTE DNDA (renovación) RL-2023-95334553-APN-DNDA#MJ.Queda prohibida la reproducción total o parcial del presente diario.Protegido por reCAPTCHA: CondicionesPrivacidadMiembro de GDA. Grupo de Diarios AméricaCargando banners ...Descargá la aplicación de LA NACION. Es rápida y liviana.No, graciasAceptar¿Querés recibir notificaciones de alertas?No, graciasAceptarHa ocurrido un error de conexiónCerrar\u001b[0m\u001b[32;1m\u001b[1;3mMartin Menem es el presidente de la Cámara de Diputados.\u001b[0m\n",
      "\n",
      "\u001b[1m> Finished chain.\u001b[0m\n"
     ]
    },
    {
     "data": {
      "text/plain": [
       "{'chat_history': [HumanMessage(content='Habia alguien de apellido Menem en la camara de diputados?'),\n",
       "  AIMessage(content='Si, se llama Martin Menem')],\n",
       " 'input': 'Cual es su cargo / funcion en la camara de diputados?',\n",
       " 'output': 'Martin Menem es el presidente de la Cámara de Diputados.'}"
      ]
     },
     "execution_count": 29,
     "metadata": {},
     "output_type": "execute_result"
    }
   ],
   "source": [
    "chat_history = [HumanMessage(content=\"Habia alguien de apellido Menem en la camara de diputados?\"), \n",
    "               AIMessage(content=\"Si, se llama Martin Menem\")]\n",
    "agent_executor.invoke({\n",
    "    \"chat_history\": chat_history,\n",
    "    \"input\": \"Cual es su cargo / funcion en la camara de diputados?\"\n",
    "})"
   ]
  },
  {
   "cell_type": "markdown",
   "id": "9e2a8c6f-66a9-4af5-8648-9500dcd0bed8",
   "metadata": {},
   "source": [
    "## <center>Serving with LangServe</center>"
   ]
  },
  {
   "cell_type": "markdown",
   "id": "13ce089c-c4f4-4a9c-95a3-1aab104c9b92",
   "metadata": {},
   "source": [
    "To create a server we need to make a `serve.py` file containing our logic for serving the application. 3 things  \n",
    "\n",
    "1. The definition of chain\n",
    "2. Our FastAPI App\n",
    "3. A definition of a _route_ from which to serve the chain, done with `langserve.add_routes`"
   ]
  }
 ],
 "metadata": {
  "kernelspec": {
   "display_name": "Python 3 (ipykernel)",
   "language": "python",
   "name": "python3"
  },
  "language_info": {
   "codemirror_mode": {
    "name": "ipython",
    "version": 3
   },
   "file_extension": ".py",
   "mimetype": "text/x-python",
   "name": "python",
   "nbconvert_exporter": "python",
   "pygments_lexer": "ipython3",
   "version": "3.11.5"
  }
 },
 "nbformat": 4,
 "nbformat_minor": 5
}
